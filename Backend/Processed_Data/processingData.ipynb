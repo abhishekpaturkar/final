{
 "cells": [
  {
   "cell_type": "code",
   "execution_count": 4,
   "id": "24223de0",
   "metadata": {},
   "outputs": [
    {
     "name": "stdout",
     "output_type": "stream",
     "text": [
      "✅ Exported: ProPuneRice.csv\n",
      "✅ Exported: ProPuneWheat.csv\n",
      "✅ Exported: ProPuneMaize.csv\n",
      "✅ Exported: ProPuneJowar.csv\n",
      "✅ Exported: ProPuneOnion.csv\n",
      "✅ Exported: ProPunePotato.csv\n",
      "✅ Exported: ProMumbaiRice.csv\n",
      "✅ Exported: ProMumbaiWheat.csv\n",
      "✅ Exported: ProMumbaiMaize.csv\n",
      "✅ Exported: ProMumbaiJowar.csv\n",
      "✅ Exported: ProMumbaiOnion.csv\n",
      "✅ Exported: ProMumbaiPotato.csv\n"
     ]
    }
   ],
   "source": [
    "import os\n",
    "import pandas as pd\n",
    "from datetime import datetime\n",
    "import warnings\n",
    "warnings.filterwarnings(\"ignore\", category=DeprecationWarning)\n",
    "\n",
    "# Folder where original data is stored\n",
    "source_folder = r\"D:\\BE Sem 8\\FinalYearProject\\OurModel\\Hariom\\Datasets\"\n",
    "\n",
    "# List of CSVs to process\n",
    "files_to_process = [\n",
    "    \"PuneRice.csv\", \"PuneWheat.csv\", \"PuneMaize.csv\", \"PuneJowar.csv\",\n",
    "    \"PuneOnion.csv\", \"PunePotato.csv\",\n",
    "    \"MumbaiRice.csv\", \"MumbaiWheat.csv\", \"MumbaiMaize.csv\", \"MumbaiJowar.csv\",\n",
    "    \"MumbaiOnion.csv\", \"MumbaiPotato.csv\"\n",
    "]\n",
    "\n",
    "# This is the folder where the notebook is running\n",
    "notebook_output_folder = os.getcwd()\n",
    "\n",
    "# Function to process each file and save it in notebook directory\n",
    "def preprocess_and_export_here(file_name):\n",
    "    try:\n",
    "        # Full path to the original CSV\n",
    "        input_path = os.path.join(source_folder, file_name)\n",
    "\n",
    "        # Read the data\n",
    "        df = pd.read_csv(input_path)\n",
    "\n",
    "        # Rename columns for consistency\n",
    "        df = df.rename(columns={\n",
    "            \"Sl no.\": \"Sl_no\",\n",
    "            \"Min Price (Rs./Quintal)\": \"Min_Price\",\n",
    "            \"Modal Price (Rs./Quintal)\": \"Modal_Price\",\n",
    "            \"Price Date\": \"Price_Date\"\n",
    "        })\n",
    "\n",
    "        # Convert date column\n",
    "        df[\"Price_Date\"] = pd.to_datetime(df[\"Price_Date\"], errors='coerce')\n",
    "\n",
    "        # Sort and remove duplicate dates\n",
    "        df = df.sort_values(\"Price_Date\")\n",
    "        df.drop_duplicates(\"Price_Date\", inplace=True)\n",
    "\n",
    "        # New file name (with 'Pro' prefix)\n",
    "        output_filename = f\"Pro{file_name}\"\n",
    "        output_path = os.path.join(notebook_output_folder, output_filename)\n",
    "\n",
    "        # Export processed data\n",
    "        df.to_csv(output_path, index=False)\n",
    "        print(f\"✅ Exported: {output_filename}\")\n",
    "\n",
    "    except Exception as e:\n",
    "        print(f\"❌ Failed to process {file_name}: {e}\")\n",
    "\n",
    "# Process all files\n",
    "for file in files_to_process:\n",
    "    preprocess_and_export_here(file)\n"
   ]
  }
 ],
 "metadata": {
  "kernelspec": {
   "display_name": "Python 3",
   "language": "python",
   "name": "python3"
  },
  "language_info": {
   "codemirror_mode": {
    "name": "ipython",
    "version": 3
   },
   "file_extension": ".py",
   "mimetype": "text/x-python",
   "name": "python",
   "nbconvert_exporter": "python",
   "pygments_lexer": "ipython3",
   "version": "3.13.2"
  }
 },
 "nbformat": 4,
 "nbformat_minor": 5
}
